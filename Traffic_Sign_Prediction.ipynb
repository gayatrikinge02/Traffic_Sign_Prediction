{
 "cells": [
  {
   "cell_type": "code",
   "execution_count": 1,
   "id": "bab959cf",
   "metadata": {},
   "outputs": [],
   "source": [
    "import pandas as pd\n",
    "import numpy as np\n",
    "import matplotlib.pyplot as plt\n",
    "import tensorflow as tf\n",
    "import seaborn as sns\n",
    "from tqdm import tqdm\n",
    "import os\n",
    "import cv2\n",
    "IMG_SIZE=32"
   ]
  },
  {
   "cell_type": "code",
   "execution_count": 4,
   "id": "caf5badc",
   "metadata": {},
   "outputs": [
    {
     "data": {
      "text/html": [
       "<div>\n",
       "<style scoped>\n",
       "    .dataframe tbody tr th:only-of-type {\n",
       "        vertical-align: middle;\n",
       "    }\n",
       "\n",
       "    .dataframe tbody tr th {\n",
       "        vertical-align: top;\n",
       "    }\n",
       "\n",
       "    .dataframe thead th {\n",
       "        text-align: right;\n",
       "    }\n",
       "</style>\n",
       "<table border=\"1\" class=\"dataframe\">\n",
       "  <thead>\n",
       "    <tr style=\"text-align: right;\">\n",
       "      <th></th>\n",
       "      <th>Width</th>\n",
       "      <th>Height</th>\n",
       "      <th>Roi.X1</th>\n",
       "      <th>Roi.Y1</th>\n",
       "      <th>Roi.X2</th>\n",
       "      <th>Roi.Y2</th>\n",
       "      <th>ClassId</th>\n",
       "      <th>Path</th>\n",
       "    </tr>\n",
       "  </thead>\n",
       "  <tbody>\n",
       "    <tr>\n",
       "      <th>0</th>\n",
       "      <td>27</td>\n",
       "      <td>26</td>\n",
       "      <td>5</td>\n",
       "      <td>5</td>\n",
       "      <td>22</td>\n",
       "      <td>20</td>\n",
       "      <td>20</td>\n",
       "      <td>Train/20/00020_00000_00000.png</td>\n",
       "    </tr>\n",
       "    <tr>\n",
       "      <th>1</th>\n",
       "      <td>28</td>\n",
       "      <td>27</td>\n",
       "      <td>5</td>\n",
       "      <td>6</td>\n",
       "      <td>23</td>\n",
       "      <td>22</td>\n",
       "      <td>20</td>\n",
       "      <td>Train/20/00020_00000_00001.png</td>\n",
       "    </tr>\n",
       "    <tr>\n",
       "      <th>2</th>\n",
       "      <td>29</td>\n",
       "      <td>26</td>\n",
       "      <td>6</td>\n",
       "      <td>5</td>\n",
       "      <td>24</td>\n",
       "      <td>21</td>\n",
       "      <td>20</td>\n",
       "      <td>Train/20/00020_00000_00002.png</td>\n",
       "    </tr>\n",
       "    <tr>\n",
       "      <th>3</th>\n",
       "      <td>28</td>\n",
       "      <td>27</td>\n",
       "      <td>5</td>\n",
       "      <td>6</td>\n",
       "      <td>23</td>\n",
       "      <td>22</td>\n",
       "      <td>20</td>\n",
       "      <td>Train/20/00020_00000_00003.png</td>\n",
       "    </tr>\n",
       "    <tr>\n",
       "      <th>4</th>\n",
       "      <td>28</td>\n",
       "      <td>26</td>\n",
       "      <td>5</td>\n",
       "      <td>5</td>\n",
       "      <td>23</td>\n",
       "      <td>21</td>\n",
       "      <td>20</td>\n",
       "      <td>Train/20/00020_00000_00004.png</td>\n",
       "    </tr>\n",
       "  </tbody>\n",
       "</table>\n",
       "</div>"
      ],
      "text/plain": [
       "   Width  Height  Roi.X1  Roi.Y1  Roi.X2  Roi.Y2  ClassId  \\\n",
       "0     27      26       5       5      22      20       20   \n",
       "1     28      27       5       6      23      22       20   \n",
       "2     29      26       6       5      24      21       20   \n",
       "3     28      27       5       6      23      22       20   \n",
       "4     28      26       5       5      23      21       20   \n",
       "\n",
       "                             Path  \n",
       "0  Train/20/00020_00000_00000.png  \n",
       "1  Train/20/00020_00000_00001.png  \n",
       "2  Train/20/00020_00000_00002.png  \n",
       "3  Train/20/00020_00000_00003.png  \n",
       "4  Train/20/00020_00000_00004.png  "
      ]
     },
     "execution_count": 4,
     "metadata": {},
     "output_type": "execute_result"
    }
   ],
   "source": [
    "import pandas as pd\n",
    "df=pd.read_csv(r'C:\\Users\\gking\\Desktop\\project\\ex\\y\\data.csv')\n",
    "df.head()"
   ]
  },
  {
   "cell_type": "code",
   "execution_count": 66,
   "id": "b38cd10b",
   "metadata": {},
   "outputs": [
    {
     "data": {
      "text/html": [
       "<div>\n",
       "<style scoped>\n",
       "    .dataframe tbody tr th:only-of-type {\n",
       "        vertical-align: middle;\n",
       "    }\n",
       "\n",
       "    .dataframe tbody tr th {\n",
       "        vertical-align: top;\n",
       "    }\n",
       "\n",
       "    .dataframe thead th {\n",
       "        text-align: right;\n",
       "    }\n",
       "</style>\n",
       "<table border=\"1\" class=\"dataframe\">\n",
       "  <thead>\n",
       "    <tr style=\"text-align: right;\">\n",
       "      <th></th>\n",
       "      <th>Width</th>\n",
       "      <th>Height</th>\n",
       "      <th>Roi.X1</th>\n",
       "      <th>Roi.Y1</th>\n",
       "      <th>Roi.X2</th>\n",
       "      <th>Roi.Y2</th>\n",
       "      <th>ClassId</th>\n",
       "      <th>Path</th>\n",
       "    </tr>\n",
       "  </thead>\n",
       "  <tbody>\n",
       "    <tr>\n",
       "      <th>39204</th>\n",
       "      <td>52</td>\n",
       "      <td>56</td>\n",
       "      <td>5</td>\n",
       "      <td>6</td>\n",
       "      <td>47</td>\n",
       "      <td>51</td>\n",
       "      <td>42</td>\n",
       "      <td>Train/42/00042_00007_00025.png</td>\n",
       "    </tr>\n",
       "    <tr>\n",
       "      <th>39205</th>\n",
       "      <td>56</td>\n",
       "      <td>58</td>\n",
       "      <td>5</td>\n",
       "      <td>5</td>\n",
       "      <td>51</td>\n",
       "      <td>53</td>\n",
       "      <td>42</td>\n",
       "      <td>Train/42/00042_00007_00026.png</td>\n",
       "    </tr>\n",
       "    <tr>\n",
       "      <th>39206</th>\n",
       "      <td>58</td>\n",
       "      <td>62</td>\n",
       "      <td>5</td>\n",
       "      <td>6</td>\n",
       "      <td>53</td>\n",
       "      <td>57</td>\n",
       "      <td>42</td>\n",
       "      <td>Train/42/00042_00007_00027.png</td>\n",
       "    </tr>\n",
       "    <tr>\n",
       "      <th>39207</th>\n",
       "      <td>63</td>\n",
       "      <td>69</td>\n",
       "      <td>5</td>\n",
       "      <td>7</td>\n",
       "      <td>58</td>\n",
       "      <td>63</td>\n",
       "      <td>42</td>\n",
       "      <td>Train/42/00042_00007_00028.png</td>\n",
       "    </tr>\n",
       "    <tr>\n",
       "      <th>39208</th>\n",
       "      <td>68</td>\n",
       "      <td>69</td>\n",
       "      <td>7</td>\n",
       "      <td>6</td>\n",
       "      <td>62</td>\n",
       "      <td>63</td>\n",
       "      <td>42</td>\n",
       "      <td>Train/42/00042_00007_00029.png</td>\n",
       "    </tr>\n",
       "  </tbody>\n",
       "</table>\n",
       "</div>"
      ],
      "text/plain": [
       "       Width  Height  Roi.X1  Roi.Y1  Roi.X2  Roi.Y2  ClassId  \\\n",
       "39204     52      56       5       6      47      51       42   \n",
       "39205     56      58       5       5      51      53       42   \n",
       "39206     58      62       5       6      53      57       42   \n",
       "39207     63      69       5       7      58      63       42   \n",
       "39208     68      69       7       6      62      63       42   \n",
       "\n",
       "                                 Path  \n",
       "39204  Train/42/00042_00007_00025.png  \n",
       "39205  Train/42/00042_00007_00026.png  \n",
       "39206  Train/42/00042_00007_00027.png  \n",
       "39207  Train/42/00042_00007_00028.png  \n",
       "39208  Train/42/00042_00007_00029.png  "
      ]
     },
     "execution_count": 66,
     "metadata": {},
     "output_type": "execute_result"
    }
   ],
   "source": [
    "df.tail()"
   ]
  },
  {
   "cell_type": "code",
   "execution_count": 74,
   "id": "1b83e8ba",
   "metadata": {},
   "outputs": [],
   "source": [
    "class_id_train=df['ClassId'].to_list()"
   ]
  },
  {
   "cell_type": "code",
   "execution_count": 78,
   "id": "5a7ac568",
   "metadata": {},
   "outputs": [],
   "source": [
    "def create_list(num):\n",
    "    # Create a list of 42 zeros\n",
    "    lst = [0] * 43\n",
    "    # Set the element at index num to 1\n",
    "    lst[num] = 1\n",
    "    return lst\n",
    "\n",
    "class_trained = []\n",
    "for num in class_id_train:\n",
    "    class_trained.append(create_list(num))\n",
    "\n"
   ]
  },
  {
   "cell_type": "code",
   "execution_count": 5,
   "id": "bba569b4",
   "metadata": {},
   "outputs": [
    {
     "data": {
      "text/plain": [
       "['Train/20/00020_00000_00000.png',\n",
       " 'Train/20/00020_00000_00001.png',\n",
       " 'Train/20/00020_00000_00002.png',\n",
       " 'Train/20/00020_00000_00003.png']"
      ]
     },
     "execution_count": 5,
     "metadata": {},
     "output_type": "execute_result"
    }
   ],
   "source": [
    "path=df['Path'].to_list()\n",
    "path[:4]"
   ]
  },
  {
   "cell_type": "code",
   "execution_count": 13,
   "id": "2875ea5f",
   "metadata": {},
   "outputs": [
    {
     "data": {
      "text/plain": [
       "['Meta', 'Meta.csv', 'Test', 'Test.csv', 'Train', 'Train.csv']"
      ]
     },
     "execution_count": 13,
     "metadata": {},
     "output_type": "execute_result"
    }
   ],
   "source": [
    "import os\n",
    "os.listdir(r'C:\\Users\\gking\\Desktop\\project\\data')"
   ]
  },
  {
   "cell_type": "code",
   "execution_count": 7,
   "id": "a1194d12",
   "metadata": {},
   "outputs": [],
   "source": [
    "class_id_train=df['ClassId'].to_list()"
   ]
  },
  {
   "cell_type": "code",
   "execution_count": 14,
   "id": "f1fe69ca",
   "metadata": {},
   "outputs": [
    {
     "name": "stderr",
     "output_type": "stream",
     "text": [
      "100%|███████████████████████████████████████████████████████████████████████████| 39209/39209 [00:47<00:00, 828.53it/s]\n"
     ]
    }
   ],
   "source": [
    "base_dir=r'C:\\Users\\gking\\Desktop\\project\\data'\n",
    "training_data=[]\n",
    "for i in tqdm(path):\n",
    "    img_path=os.path.join(base_dir,i)\n",
    "    img=cv2.imread(img_path,cv2.IMREAD_COLOR)#read_image\n",
    "    img=cv2.resize(img,(IMG_SIZE,IMG_SIZE)) #resizing the image\n",
    "    training_data.append(img)"
   ]
  },
  {
   "cell_type": "code",
   "execution_count": 68,
   "id": "fdbca188",
   "metadata": {
    "scrolled": true
   },
   "outputs": [
    {
     "data": {
      "text/html": [
       "<div>\n",
       "<style scoped>\n",
       "    .dataframe tbody tr th:only-of-type {\n",
       "        vertical-align: middle;\n",
       "    }\n",
       "\n",
       "    .dataframe tbody tr th {\n",
       "        vertical-align: top;\n",
       "    }\n",
       "\n",
       "    .dataframe thead th {\n",
       "        text-align: right;\n",
       "    }\n",
       "</style>\n",
       "<table border=\"1\" class=\"dataframe\">\n",
       "  <thead>\n",
       "    <tr style=\"text-align: right;\">\n",
       "      <th></th>\n",
       "      <th>Width</th>\n",
       "      <th>Height</th>\n",
       "      <th>Roi.X1</th>\n",
       "      <th>Roi.Y1</th>\n",
       "      <th>Roi.X2</th>\n",
       "      <th>Roi.Y2</th>\n",
       "      <th>ClassId</th>\n",
       "      <th>Path</th>\n",
       "    </tr>\n",
       "  </thead>\n",
       "  <tbody>\n",
       "    <tr>\n",
       "      <th>0</th>\n",
       "      <td>53</td>\n",
       "      <td>54</td>\n",
       "      <td>6</td>\n",
       "      <td>5</td>\n",
       "      <td>48</td>\n",
       "      <td>49</td>\n",
       "      <td>16</td>\n",
       "      <td>Test/00000.png</td>\n",
       "    </tr>\n",
       "    <tr>\n",
       "      <th>1</th>\n",
       "      <td>42</td>\n",
       "      <td>45</td>\n",
       "      <td>5</td>\n",
       "      <td>5</td>\n",
       "      <td>36</td>\n",
       "      <td>40</td>\n",
       "      <td>1</td>\n",
       "      <td>Test/00001.png</td>\n",
       "    </tr>\n",
       "    <tr>\n",
       "      <th>2</th>\n",
       "      <td>48</td>\n",
       "      <td>52</td>\n",
       "      <td>6</td>\n",
       "      <td>6</td>\n",
       "      <td>43</td>\n",
       "      <td>47</td>\n",
       "      <td>38</td>\n",
       "      <td>Test/00002.png</td>\n",
       "    </tr>\n",
       "    <tr>\n",
       "      <th>3</th>\n",
       "      <td>27</td>\n",
       "      <td>29</td>\n",
       "      <td>5</td>\n",
       "      <td>5</td>\n",
       "      <td>22</td>\n",
       "      <td>24</td>\n",
       "      <td>33</td>\n",
       "      <td>Test/00003.png</td>\n",
       "    </tr>\n",
       "    <tr>\n",
       "      <th>4</th>\n",
       "      <td>60</td>\n",
       "      <td>57</td>\n",
       "      <td>5</td>\n",
       "      <td>5</td>\n",
       "      <td>55</td>\n",
       "      <td>52</td>\n",
       "      <td>11</td>\n",
       "      <td>Test/00004.png</td>\n",
       "    </tr>\n",
       "  </tbody>\n",
       "</table>\n",
       "</div>"
      ],
      "text/plain": [
       "   Width  Height  Roi.X1  Roi.Y1  Roi.X2  Roi.Y2  ClassId            Path\n",
       "0     53      54       6       5      48      49       16  Test/00000.png\n",
       "1     42      45       5       5      36      40        1  Test/00001.png\n",
       "2     48      52       6       6      43      47       38  Test/00002.png\n",
       "3     27      29       5       5      22      24       33  Test/00003.png\n",
       "4     60      57       5       5      55      52       11  Test/00004.png"
      ]
     },
     "execution_count": 68,
     "metadata": {},
     "output_type": "execute_result"
    }
   ],
   "source": [
    "test_df=pd.read_csv(r'C:\\Users\\gking\\Desktop\\project\\ex\\y\\test.csv')\n",
    "test_df.head()"
   ]
  },
  {
   "cell_type": "code",
   "execution_count": 72,
   "id": "9086b95e",
   "metadata": {},
   "outputs": [
    {
     "data": {
      "text/html": [
       "<div>\n",
       "<style scoped>\n",
       "    .dataframe tbody tr th:only-of-type {\n",
       "        vertical-align: middle;\n",
       "    }\n",
       "\n",
       "    .dataframe tbody tr th {\n",
       "        vertical-align: top;\n",
       "    }\n",
       "\n",
       "    .dataframe thead th {\n",
       "        text-align: right;\n",
       "    }\n",
       "</style>\n",
       "<table border=\"1\" class=\"dataframe\">\n",
       "  <thead>\n",
       "    <tr style=\"text-align: right;\">\n",
       "      <th></th>\n",
       "      <th>Width</th>\n",
       "      <th>Height</th>\n",
       "      <th>Roi.X1</th>\n",
       "      <th>Roi.Y1</th>\n",
       "      <th>Roi.X2</th>\n",
       "      <th>Roi.Y2</th>\n",
       "      <th>ClassId</th>\n",
       "      <th>Path</th>\n",
       "    </tr>\n",
       "  </thead>\n",
       "  <tbody>\n",
       "    <tr>\n",
       "      <th>12625</th>\n",
       "      <td>42</td>\n",
       "      <td>41</td>\n",
       "      <td>5</td>\n",
       "      <td>6</td>\n",
       "      <td>37</td>\n",
       "      <td>36</td>\n",
       "      <td>12</td>\n",
       "      <td>Test/12625.png</td>\n",
       "    </tr>\n",
       "    <tr>\n",
       "      <th>12626</th>\n",
       "      <td>50</td>\n",
       "      <td>51</td>\n",
       "      <td>6</td>\n",
       "      <td>5</td>\n",
       "      <td>45</td>\n",
       "      <td>46</td>\n",
       "      <td>33</td>\n",
       "      <td>Test/12626.png</td>\n",
       "    </tr>\n",
       "    <tr>\n",
       "      <th>12627</th>\n",
       "      <td>29</td>\n",
       "      <td>29</td>\n",
       "      <td>6</td>\n",
       "      <td>6</td>\n",
       "      <td>24</td>\n",
       "      <td>24</td>\n",
       "      <td>6</td>\n",
       "      <td>Test/12627.png</td>\n",
       "    </tr>\n",
       "    <tr>\n",
       "      <th>12628</th>\n",
       "      <td>48</td>\n",
       "      <td>49</td>\n",
       "      <td>5</td>\n",
       "      <td>6</td>\n",
       "      <td>43</td>\n",
       "      <td>44</td>\n",
       "      <td>7</td>\n",
       "      <td>Test/12628.png</td>\n",
       "    </tr>\n",
       "    <tr>\n",
       "      <th>12629</th>\n",
       "      <td>32</td>\n",
       "      <td>31</td>\n",
       "      <td>6</td>\n",
       "      <td>5</td>\n",
       "      <td>27</td>\n",
       "      <td>26</td>\n",
       "      <td>10</td>\n",
       "      <td>Test/12629.png</td>\n",
       "    </tr>\n",
       "  </tbody>\n",
       "</table>\n",
       "</div>"
      ],
      "text/plain": [
       "       Width  Height  Roi.X1  Roi.Y1  Roi.X2  Roi.Y2  ClassId            Path\n",
       "12625     42      41       5       6      37      36       12  Test/12625.png\n",
       "12626     50      51       6       5      45      46       33  Test/12626.png\n",
       "12627     29      29       6       6      24      24        6  Test/12627.png\n",
       "12628     48      49       5       6      43      44        7  Test/12628.png\n",
       "12629     32      31       6       5      27      26       10  Test/12629.png"
      ]
     },
     "execution_count": 72,
     "metadata": {},
     "output_type": "execute_result"
    }
   ],
   "source": [
    "test_df.tail()"
   ]
  },
  {
   "cell_type": "code",
   "execution_count": 69,
   "id": "54b22789",
   "metadata": {},
   "outputs": [],
   "source": [
    "class_id_test=test_df['ClassId'].to_list()"
   ]
  },
  {
   "cell_type": "code",
   "execution_count": 70,
   "id": "798cd0c8",
   "metadata": {},
   "outputs": [],
   "source": [
    "test_path=test_df['Path'].to_list()\n",
    "class_id_test=test_df['ClassId'].to_list()"
   ]
  },
  {
   "cell_type": "code",
   "execution_count": 86,
   "id": "490bfff1",
   "metadata": {},
   "outputs": [
    {
     "data": {
      "text/plain": [
       "12630"
      ]
     },
     "execution_count": 86,
     "metadata": {},
     "output_type": "execute_result"
    }
   ],
   "source": [
    "len(class_id_test)"
   ]
  },
  {
   "cell_type": "code",
   "execution_count": 81,
   "id": "87473e51",
   "metadata": {},
   "outputs": [],
   "source": [
    "def create_list(num):\n",
    "    # Create a list of 42 zeros\n",
    "    lst = [0] * 43\n",
    "    # Set the element at index num to 1\n",
    "    lst[num] = 1\n",
    "    return lst\n",
    "\n",
    "class_tested = []\n",
    "for num in class_id_test:\n",
    "    class_tested.append(create_list(num))"
   ]
  },
  {
   "cell_type": "code",
   "execution_count": 87,
   "id": "d65a4616",
   "metadata": {
    "scrolled": true
   },
   "outputs": [
    {
     "name": "stderr",
     "output_type": "stream",
     "text": [
      "100%|███████████████████████████████████████████████████████████████████████████| 12630/12630 [00:26<00:00, 482.45it/s]\n"
     ]
    }
   ],
   "source": [
    "base_dir=r'C:\\Users\\gking\\Desktop\\project\\data'\n",
    "testing_data=[]\n",
    "for i in tqdm(test_path):\n",
    "    img_path=os.path.join(base_dir,i)\n",
    "    img=cv2.imread(img_path,cv2.IMREAD_COLOR)#read_image\n",
    "    img=cv2.resize(img,(IMG_SIZE,IMG_SIZE)) #resizing the image\n",
    "    testing_data.append(img)"
   ]
  },
  {
   "cell_type": "code",
   "execution_count": 88,
   "id": "bc83f82d",
   "metadata": {},
   "outputs": [],
   "source": [
    "X_train=np.array(training_data)\n",
    "Y_train=np.array(class_trained)\n",
    "X_test=np.array(testing_data)\n",
    "Y_test=np.array(class_tested)"
   ]
  },
  {
   "cell_type": "code",
   "execution_count": 89,
   "id": "73444add",
   "metadata": {},
   "outputs": [
    {
     "name": "stdout",
     "output_type": "stream",
     "text": [
      "Shape of X_train: (39209, 32, 32, 3) \n",
      "Shape of Y_train: (39209, 43)\n",
      "Shape of X_test: (12630, 32, 32, 3) \n",
      "Shape of Y_test: (12630, 43)\n"
     ]
    }
   ],
   "source": [
    "print(\"Shape of X_train:\",X_train.shape,\"\\nShape of Y_train:\",Y_train.shape)\n",
    "print(\"Shape of X_test:\",X_test.shape,\"\\nShape of Y_test:\",Y_test.shape)"
   ]
  },
  {
   "cell_type": "markdown",
   "id": "95d0ce55",
   "metadata": {},
   "source": [
    "**Convolution neural network model** \n",
    "\n",
    "\n",
    "creating a base CNN model: The input layer of shape 200*200 following with the zero-padding, Then a 2D convolution network layer and a Batch Normalization layer of momentum 0.99 and epsilon 0.001, following with the relu Activation Layer and Pooling, Finnaly a Flatten layer and a Dense layer of Softmax Activation function."
   ]
  },
  {
   "cell_type": "code",
   "execution_count": 90,
   "id": "9b92bd13",
   "metadata": {},
   "outputs": [
    {
     "name": "stdout",
     "output_type": "stream",
     "text": [
      "Epoch 1/5\n",
      "1226/1226 [==============================] - 101s 81ms/step - loss: 0.7398 - accuracy: 0.8191 - val_loss: 0.5761 - val_accuracy: 0.8625\n",
      "Epoch 2/5\n",
      "1226/1226 [==============================] - 91s 74ms/step - loss: 0.1877 - accuracy: 0.9515 - val_loss: 0.8582 - val_accuracy: 0.8219\n",
      "Epoch 3/5\n",
      "1226/1226 [==============================] - 90s 73ms/step - loss: 0.1152 - accuracy: 0.9695 - val_loss: 0.6593 - val_accuracy: 0.8857\n",
      "Epoch 4/5\n",
      "1226/1226 [==============================] - 90s 74ms/step - loss: 0.1005 - accuracy: 0.9740 - val_loss: 0.6452 - val_accuracy: 0.9016\n",
      "Epoch 5/5\n",
      "1226/1226 [==============================] - 89s 73ms/step - loss: 0.0812 - accuracy: 0.9800 - val_loss: 0.5567 - val_accuracy: 0.9040\n"
     ]
    }
   ],
   "source": [
    "#cnn model\n",
    "\n",
    "def cnn_model():\n",
    "  model=tf.keras.Sequential([tf.keras.layers.InputLayer((IMG_SIZE,IMG_SIZE,3)),\n",
    "                             \n",
    "                             tf.keras.layers.ZeroPadding2D(padding=(3,3)),\n",
    "\n",
    "                             tf.keras.layers.Conv2D(filters=32,kernel_size=7,strides=(1,1)),\n",
    "\n",
    "                             tf.keras.layers.BatchNormalization(axis=-1, momentum=0.99, epsilon=0.001,beta_initializer='zeros', gamma_initializer='ones',moving_mean_initializer='zeros',moving_variance_initializer='ones'),\n",
    "\n",
    "                             tf.keras.layers.ReLU(),\n",
    "\n",
    "                             tf.keras.layers.MaxPooling2D(pool_size=(2, 2), strides=(2,2), padding='valid'),\n",
    "\n",
    "                             tf.keras.layers.Flatten(),\n",
    "\n",
    "                             tf.keras.layers.Dense(43,activation='softmax'),                             \n",
    "                             \n",
    "                             ])\n",
    "  return model\n",
    "\n",
    "conv_model=cnn_model() #calling the model\n",
    "conv_model.compile(optimizer='adam',\n",
    "                  loss='categorical_crossentropy',\n",
    "                  metrics=['accuracy']) #compliing the model\n",
    "\n",
    "history=conv_model.fit(x=X_train,y=Y_train,epochs=5,validation_data=(X_test,Y_test),batch_size=32) #fitting the CNN model"
   ]
  },
  {
   "cell_type": "code",
   "execution_count": 91,
   "id": "633fec20",
   "metadata": {},
   "outputs": [
    {
     "data": {
      "image/png": "[encoded data removed]",
      "text/plain": [
       "<Figure size 640x480 with 1 Axes>"
      ]
     },
     "metadata": {},
     "output_type": "display_data"
    },
    {
     "data": {
      "image/png": "[encoded data removed]",
      "text/plain": [
       "<Figure size 640x480 with 1 Axes>"
      ]
     },
     "metadata": {},
     "output_type": "display_data"
    }
   ],
   "source": [
    "# summarize history for accuracy\n",
    "plt.plot(history.history['accuracy'])\n",
    "plt.plot(history.history['val_accuracy'])\n",
    "plt.title('model accuracy')\n",
    "plt.ylabel('accuracy')\n",
    "plt.xlabel('epoch')\n",
    "plt.legend(['train', 'test'], loc='upper left')\n",
    "plt.show()\n",
    "# summarize history for loss\n",
    "plt.plot(history.history['loss'])\n",
    "plt.plot(history.history['val_loss'])\n",
    "plt.title('model loss')\n",
    "plt.ylabel('loss')\n",
    "plt.xlabel('epoch')\n",
    "plt.legend(['train', 'test'], loc='upper left')\n",
    "plt.show()"
   ]
  },
  {
   "cell_type": "code",
   "execution_count": 92,
   "id": "ed9c7ea7",
   "metadata": {},
   "outputs": [
    {
     "name": "stdout",
     "output_type": "stream",
     "text": [
      "395/395 [==============================] - 8s 20ms/step - loss: 0.5567 - accuracy: 0.9040\n"
     ]
    },
    {
     "data": {
      "text/plain": [
       "[0.5566582679748535, 0.9040380120277405]"
      ]
     },
     "execution_count": 92,
     "metadata": {},
     "output_type": "execute_result"
    }
   ],
   "source": [
    "conv_model.save('convolution_model.h5') #Saving the CNN model\n",
    "conv_model.evaluate(X_test,Y_test) #Evaluating the CNN model"
   ]
  },
  {
   "cell_type": "markdown",
   "id": "fbf58c2e",
   "metadata": {},
   "source": [
    "**DenseNet Model**\n",
    "\n",
    "\n",
    "Downloading the pretrained weights for the DenseNet121 model, Changing the input shape for the top layer, adding the Global-Average-pooling layer and then adding a Dense layer of Softmax Activation layer."
   ]
  },
  {
   "cell_type": "code",
   "execution_count": null,
   "id": "5cf405e0",
   "metadata": {},
   "outputs": [],
   "source": [
    "#DenseNet model\n",
    "\n",
    "base_model=tf.keras.applications.densenet.DenseNet121(weights=r'imagenet', include_top=False,input_shape=(IMG_SIZE,IMG_SIZE,3))\n",
    "\n",
    "x=(base_model.output)\n",
    "\n",
    "x = tf.keras.layers.GlobalAveragePooling2D()(x)\n",
    "\n",
    "predictions = tf.keras.layers.Dense(43, activation=\"softmax\")(x)\n",
    "\n",
    "densenet_model = tf.keras.models.Model(inputs=base_model.input, outputs=predictions)\n",
    "densenet_model.compile(optimizer='adam', loss='CategoricalCrossentropy', metrics=['accuracy']) #compiling the DenseNet model\n",
    "history=densenet_model.fit(x=X_train,y=Y_train,batch_size=32,validation_data=(X_test,Y_test),epochs=5) #Fitting the DenseNet model"
   ]
  },
  {
   "cell_type": "code",
   "execution_count": null,
   "id": "577160aa",
   "metadata": {},
   "outputs": [],
   "source": [
    "# summarize history for accuracy\n",
    "plt.plot(history.history['accuracy'])\n",
    "plt.plot(history.history['val_accuracy'])\n",
    "plt.title('model accuracy')\n",
    "plt.ylabel('accuracy')\n",
    "plt.xlabel('epoch')\n",
    "plt.legend(['train', 'test'], loc='upper left')\n",
    "plt.show()\n",
    "# summarize history for loss\n",
    "plt.plot(history.history['loss'])\n",
    "plt.plot(history.history['val_loss'])\n",
    "plt.title('model loss')\n",
    "plt.ylabel('loss')\n",
    "plt.xlabel('epoch')\n",
    "plt.legend(['train', 'test'], loc='upper left')\n",
    "plt.show()"
   ]
  },
  {
   "cell_type": "code",
   "execution_count": null,
   "id": "0b7c7da5",
   "metadata": {},
   "outputs": [],
   "source": [
    "\n",
    "densenet_model.save('/content/drive/MyDrive/chest x-ray/models/DenseNet_model.h5') #Saving the DenseNet model\n",
    "densenet_model.evaluate(X_test,Y_test) #evaluating the DenseNet model"
   ]
  },
  {
   "cell_type": "markdown",
   "id": "67ea65e0",
   "metadata": {},
   "source": [
    "## **ResNet50**\n"
   ]
  },
  {
   "cell_type": "code",
   "execution_count": null,
   "id": "45877dd7",
   "metadata": {},
   "outputs": [],
   "source": [
    "#ResNet50\n",
    "\n",
    "base_model=tf.keras.applications.resnet50.ResNet50(weights=r'imagenet', include_top=False,input_shape=(IMG_SIZE,IMG_SIZE,3))\n",
    "\n",
    "x=(base_model.output)\n",
    "\n",
    "x = tf.keras.layers.GlobalAveragePooling2D()(x)\n",
    "\n",
    "predictions = tf.keras.layers.Dense(43, activation=\"softmax\")(x)\n",
    "\n",
    "ResNet50_model = tf.keras.models.Model(inputs=base_model.input, outputs=predictions)\n",
    "ResNet50_model.compile(optimizer='adam', loss='CategoricalCrossentropy', metrics=['accuracy']) #compiling the DenseNet model\n",
    "history=ResNet50_model.fit(x=X_train,y=Y_train,batch_size=32,validation_data=(X_test,Y_test),epochs=5) #Fitting the DenseNet model"
   ]
  },
  {
   "cell_type": "code",
   "execution_count": null,
   "id": "5978e636",
   "metadata": {},
   "outputs": [],
   "source": [
    "# summarize history for accuracy\n",
    "plt.plot(history.history['accuracy'])\n",
    "plt.plot(history.history['val_accuracy'])\n",
    "plt.title('model accuracy')\n",
    "plt.ylabel('accuracy')\n",
    "plt.xlabel('epoch')\n",
    "plt.legend(['train', 'test'], loc='upper left')\n",
    "plt.show()\n",
    "# summarize history for loss\n",
    "plt.plot(history.history['loss'])\n",
    "plt.plot(history.history['val_loss'])\n",
    "plt.title('model loss')\n",
    "plt.ylabel('loss')\n",
    "plt.xlabel('epoch')\n",
    "plt.legend(['train', 'test'], loc='upper left')\n",
    "plt.show()"
   ]
  },
  {
   "cell_type": "code",
   "execution_count": 93,
   "id": "c3a7c90e",
   "metadata": {},
   "outputs": [],
   "source": [
    "# Defining the process function for processing the imaes while testing \n",
    "def process(path):\n",
    "  img=cv2.imread(path,cv2.IMREAD_COLOR)\n",
    "  img=cv2.resize(img,(32,32))\n",
    "  x=img\n",
    "  img=np.expand_dims(img,axis=0)\n",
    "  return img,x\n",
    "def pred_list(pred):\n",
    "  pred_list=[]\n",
    "  for i in pred[0]:\n",
    "    x=format(i,'.8f')\n",
    "    pred_list.append(x)\n",
    "  return pred_list\n",
    "\n",
    "def class_pred(pred_list):\n",
    "    x=np.argmax(pred_list)\n",
    "    return x"
   ]
  },
  {
   "cell_type": "code",
   "execution_count": 97,
   "id": "50bd94f2",
   "metadata": {},
   "outputs": [
    {
     "name": "stdout",
     "output_type": "stream",
     "text": [
      "1/1 [==============================] - 0s 79ms/step\n",
      "['0.00163585', '0.09144713', '0.37797102', '0.01843912', '0.01264050', '0.02839291', '0.00297966', '0.06455977', '0.01630603', '0.07793337', '0.01075155', '0.03067519', '0.02447815', '0.01115019', '0.00101812', '0.00117111', '0.00524977', '0.02841035', '0.01259100', '0.00299780', '0.00368649', '0.00321886', '0.00498692', '0.00152394', '0.00271829', '0.01008737', '0.00851921', '0.00314999', '0.00146184', '0.00629986', '0.00628990', '0.01766192', '0.00289205', '0.00369320', '0.00035971', '0.02177781', '0.00361403', '0.00201860', '0.01870003', '0.00191346', '0.03996545', '0.00287848', '0.01178404']\n",
      "Class predicted 2\n"
     ]
    },
    {
     "data": {
      "text/plain": [
       "<matplotlib.image.AxesImage at 0x28bae38bee0>"
      ]
     },
     "execution_count": 97,
     "metadata": {},
     "output_type": "execute_result"
    },
    {
     "data": {
      "image/png": "[encoded data removed]",
      "text/plain": [
       "<Figure size 640x480 with 1 Axes>"
      ]
     },
     "metadata": {},
     "output_type": "display_data"
    }
   ],
   "source": [
    "path=r'C:\\Users\\gking\\Desktop\\project\\data\\Train\\2\\00002_00000_00000.png'\n",
    "img,x=process(path)\n",
    "pred=conv_model.predict(img)\n",
    "pred=pred_list(pred)\n",
    "print(pred)\n",
    "print(\"Class predicted\",class_pred(pred))\n",
    "plt.imshow(x)\n"
   ]
  },
  {
   "cell_type": "code",
   "execution_count": 98,
   "id": "ba974e0b",
   "metadata": {},
   "outputs": [
    {
     "name": "stdout",
     "output_type": "stream",
     "text": [
      "1/1 [==============================] - 0s 81ms/step\n",
      "['0.00000000', '0.00000000', '0.00000546', '0.00000000', '0.00000000', '0.00000020', '0.00000000', '0.00001907', '0.00000000', '0.00000959', '0.99996507', '0.00000001', '0.00000002', '0.00000000', '0.00000000', '0.00000000', '0.00000048', '0.00000000', '0.00000000', '0.00000000', '0.00000000', '0.00000000', '0.00000000', '0.00000001', '0.00000000', '0.00000000', '0.00000001', '0.00000000', '0.00000000', '0.00000000', '0.00000000', '0.00000000', '0.00000000', '0.00000000', '0.00000000', '0.00000000', '0.00000000', '0.00000000', '0.00000000', '0.00000000', '0.00000000', '0.00000004', '0.00000008']\n",
      "Class predicted 10\n"
     ]
    },
    {
     "data": {
      "text/plain": [
       "<matplotlib.image.AxesImage at 0x28bae3b87c0>"
      ]
     },
     "execution_count": 98,
     "metadata": {},
     "output_type": "execute_result"
    },
    {
     "data": {
      "image/png": "[encoded data removed]",
      "text/plain": [
       "<Figure size 640x480 with 1 Axes>"
      ]
     },
     "metadata": {},
     "output_type": "display_data"
    }
   ],
   "source": [
    "path=r'C:\\Users\\gking\\Desktop\\project\\data\\Train\\10\\00010_00000_00000.png'\n",
    "img,x=process(path)\n",
    "pred=conv_model.predict(img)\n",
    "pred=pred_list(pred)\n",
    "print(pred)\n",
    "print(\"Class predicted\",class_pred(pred))\n",
    "plt.imshow(x)"
   ]
  },
  {
   "cell_type": "code",
   "execution_count": null,
   "id": "cec24cca",
   "metadata": {},
   "outputs": [],
   "source": []
  }
 ],
 "metadata": {
  "kernelspec": {
   "display_name": "Python 3 (ipykernel)",
   "language": "python",
   "name": "python3"
  },
  "language_info": {
   "codemirror_mode": {
    "name": "ipython",
    "version": 3
   },
   "file_extension": ".py",
   "mimetype": "text/x-python",
   "name": "python",
   "nbconvert_exporter": "python",
   "pygments_lexer": "ipython3",
   "version": "3.9.13"
  }
 },
 "nbformat": 4,
 "nbformat_minor": 5
}
